{
 "cells": [
  {
   "cell_type": "markdown",
   "metadata": {},
   "source": [
    "## Example of how to generate simulated data using DiffSimGen"
   ]
  },
  {
   "cell_type": "code",
   "execution_count": 1,
   "metadata": {},
   "outputs": [
    {
     "name": "stderr",
     "output_type": "stream",
     "text": [
      "No protocol specified\n"
     ]
    }
   ],
   "source": [
    "from diffsimgen import diffsimrun\n",
    "import numpy as np\n",
    "import matplotlib.pyplot as plt"
   ]
  },
  {
   "cell_type": "markdown",
   "metadata": {},
   "source": [
    "#### Lets take a look at the function diffsimrun"
   ]
  },
  {
   "cell_type": "code",
   "execution_count": 2,
   "metadata": {},
   "outputs": [
    {
     "name": "stdout",
     "output_type": "stream",
     "text": [
      "Help on function diffsimrun in module diffsimgen.diffsimrun:\n",
      "\n",
      "diffsimrun(model, bval, bvec, S0, SNR, numofsim=100000, delta=None, Delta=None, TE=None)\n",
      "    Function for generating training data (normalized signal and microstructure parameters)\n",
      "    Current models accepted:\n",
      "    - NODDI_watson\n",
      "    bval: \n",
      "      path to .bval file or numpy array with bvalues.\n",
      "    bvec: \n",
      "      path to .bvec file or numpy array with bvectors.\n",
      "    S0: \n",
      "      Signal. Example -> 100, [10,100], [10,20,30,40,50]\n",
      "      This can be a single value or array. If you specify two S0 values ([10,100])\n",
      "      then a random S0 value will be drawn within that range with equal probability.\n",
      "      This can help if you want to cover the range of signals that might be present\n",
      "      on a voxel-to-voxel basis. If you have multi-shell data, then you can specify\n",
      "      the signal at each shell ([10,20,30,40,50]), then the data will be simulated\n",
      "      using only those specified values. \n",
      "    SNR: \n",
      "      Signal to noise ratio. Example -> 40, [10,50], [10,20,30,40,50]\n",
      "      Idea is the same as the S0 variable above.\n",
      "      *Gaussian noise will be added to real and imag signal then combined\n",
      "    numofsim: \n",
      "      Number of simulations to perform (i.e. how many random microstructural\n",
      "      environments should data be simulated from) (default=100000).\n",
      "    delta: \n",
      "      Pulse duration time in seconds (default=None)\n",
      "    Delta: \n",
      "      Pulse seperation time in seconds (default=None)\n",
      "    TE: \n",
      "      Echo time (default=None)\n",
      "    Note, if you want to change fixed parameters (for example, in NODDI the free\n",
      "    diffusivity and parallel diffusivity are fixed) this can be adjusted\n",
      "    in the models.py file\n",
      "    \n",
      "    returns:\n",
      "      normalized signal (S/S0), microstructure parameters, and the name of the \n",
      "      microstructural parameters\n",
      "\n"
     ]
    }
   ],
   "source": [
    "help(diffsimrun)"
   ]
  },
  {
   "cell_type": "markdown",
   "metadata": {},
   "source": [
    "#### Can see our diffusion acquisition has 266 measurements"
   ]
  },
  {
   "cell_type": "code",
   "execution_count": 3,
   "metadata": {},
   "outputs": [
    {
     "data": {
      "text/plain": [
       "(266,)"
      ]
     },
     "execution_count": 3,
     "metadata": {},
     "output_type": "execute_result"
    }
   ],
   "source": [
    "bvals = np.loadtxt('datasets/tutorial_dwi.bval')\n",
    "bvecs = np.loadtxt('datasets/tutorial_dwi.bvec')\n",
    "bvals.shape"
   ]
  },
  {
   "cell_type": "markdown",
   "metadata": {},
   "source": [
    "#### In this example we simulate data using the NODDI watson model"
   ]
  },
  {
   "cell_type": "code",
   "execution_count": 32,
   "metadata": {},
   "outputs": [
    {
     "name": "stdout",
     "output_type": "stream",
     "text": [
      "Converting bvalues to s/m^2\n"
     ]
    }
   ],
   "source": [
    "signal,parameters,parameter_names = diffsimrun(model='NODDI_watson',bval=bvals,bvec=bvecs,S0=20,SNR=[50,100],numofsim=1000)"
   ]
  },
  {
   "cell_type": "markdown",
   "metadata": {},
   "source": [
    "#### Here are the NODDI-defined microstructural parameters we simulated with"
   ]
  },
  {
   "cell_type": "code",
   "execution_count": 5,
   "metadata": {},
   "outputs": [
    {
     "name": "stdout",
     "output_type": "stream",
     "text": [
      "['theta', 'phi', 'ODI', 'stick_fraction_within_watson', 'ball_fraction', 'total_watson_fraction']\n"
     ]
    }
   ],
   "source": [
    "print(parameter_names)"
   ]
  },
  {
   "cell_type": "markdown",
   "metadata": {},
   "source": [
    "#### We now have our simulated signal across 10000 different random microstructural environments defined by NODDI"
   ]
  },
  {
   "cell_type": "code",
   "execution_count": 6,
   "metadata": {},
   "outputs": [
    {
     "data": {
      "text/plain": [
       "(1000, 266)"
      ]
     },
     "execution_count": 6,
     "metadata": {},
     "output_type": "execute_result"
    }
   ],
   "source": [
    "signal.shape"
   ]
  },
  {
   "cell_type": "markdown",
   "metadata": {},
   "source": [
    "#### This contains the 1000 random microstructural parameters used to simulate signal"
   ]
  },
  {
   "cell_type": "code",
   "execution_count": 7,
   "metadata": {},
   "outputs": [
    {
     "data": {
      "text/plain": [
       "(1000, 6)"
      ]
     },
     "execution_count": 7,
     "metadata": {},
     "output_type": "execute_result"
    }
   ],
   "source": [
    "parameters.shape"
   ]
  },
  {
   "cell_type": "markdown",
   "metadata": {},
   "source": [
    "### Lets now check out a signal plot from two different simulated microstructural environments"
   ]
  },
  {
   "cell_type": "code",
   "execution_count": 33,
   "metadata": {},
   "outputs": [
    {
     "name": "stdout",
     "output_type": "stream",
     "text": [
      "microstructural environment #1 (high free diffusion):\n",
      "total_watson_fraction = 0.08666370578231841\n",
      "ball_fraction = 0.9133362942176816\n",
      "stick_fraction_within_watson = 0.7745842594764226\n",
      "ODI = 0.7704539226117512\n",
      "microstructural environment #2 (high restricted diffusion):\n",
      "total_watson_fraction = 0.9439228492545744\n",
      "ball_fraction = 0.05607715074542562\n",
      "stick_fraction_within_watson = 0.29275266956584434\n",
      "ODI = 0.8623487757942124\n"
     ]
    }
   ],
   "source": [
    "print(f'microstructural environment #1 (high free diffusion):')\n",
    "for ii in range(4):\n",
    "    ii = ii+1\n",
    "    print(f'{parameter_names[-ii]} = {parameters[1,-ii]}')\n",
    "\n",
    "print(f'microstructural environment #2 (high restricted diffusion):')\n",
    "for ii in range(4):\n",
    "    ii = ii+1\n",
    "    print(f'{parameter_names[-ii]} = {parameters[2,-ii]}')"
   ]
  },
  {
   "cell_type": "markdown",
   "metadata": {},
   "source": [
    "##### Powder average data within each shell"
   ]
  },
  {
   "cell_type": "code",
   "execution_count": 34,
   "metadata": {},
   "outputs": [],
   "source": [
    "bunique = np.unique(bvals)\n",
    "s1 = np.zeros((len(bunique)))\n",
    "s2 = np.zeros((len(bunique)))\n",
    "\n",
    "for ii in range(len(bunique)):\n",
    "    bind = bvals == bunique[ii]\n",
    "    s1[ii] = np.mean(signal[1,bind])\n",
    "    s2[ii] = np.mean(signal[2,bind])"
   ]
  },
  {
   "cell_type": "markdown",
   "metadata": {},
   "source": [
    "##### Fitting exponential function to data"
   ]
  },
  {
   "cell_type": "code",
   "execution_count": 35,
   "metadata": {},
   "outputs": [],
   "source": [
    "from scipy.optimize import curve_fit\n",
    "# Function to calculate the exponential with constants a and b\n",
    "def monoexp(x, m, t):\n",
    "    return m * np.exp(-t * x)\n",
    "\n",
    "barray = np.linspace(0,6000,100)\n",
    "\n",
    "p0 = (1,0.0000003 ) # start with values near those we expect\n",
    "\n",
    "params1,cv = curve_fit(monoexp,bunique,s1,p0)\n",
    "params2,cv = curve_fit(monoexp,bunique,s2,p0)\n",
    "\n",
    "s1fit = monoexp(barray,params1[0],params1[1])\n",
    "s2fit = monoexp(barray,params2[0],params2[1])"
   ]
  },
  {
   "cell_type": "markdown",
   "metadata": {},
   "source": [
    "### As expected, the more \"free\" environment has a lower signal, given by the fact that water can diffuse further in that environment. As well, the \"free\" signal decays much faster than the \"restricted\" signal, in line with the idea that the intracellular signal dominates at higher b-values "
   ]
  },
  {
   "cell_type": "code",
   "execution_count": 37,
   "metadata": {},
   "outputs": [
    {
     "data": {
      "image/png": "[encoded data removed]",
      "text/plain": [
       "<Figure size 640x480 with 1 Axes>"
      ]
     },
     "metadata": {},
     "output_type": "display_data"
    }
   ],
   "source": [
    "fig = plt.figure()\n",
    "ax1 = fig.add_subplot(111)\n",
    "\n",
    "ax1.scatter(barray, s1fit, s=10, c='b', marker=\"s\", label='Micro-environment #1 (free)')\n",
    "ax1.scatter(barray,s2fit, s=10, c='r', marker=\"o\", label='Micro-environment #2 (restricted)')\n",
    "ax1.scatter(bunique, s1, s=20, c='b', marker=\"s\")\n",
    "ax1.scatter(bunique,s2, s=20, c='r', marker=\"o\")\n",
    "plt.legend(loc='upper right')\n",
    "plt.xlabel(\"b-values (s/mm^2)\")\n",
    "plt.ylabel(\"S/S0\")\n",
    "plt.show()"
   ]
  }
 ],
 "metadata": {
  "interpreter": {
   "hash": "31f2aee4e71d21fbe5cf8b01ff0e069b9275f58929596ceb00d14d90e3e16cd6"
  },
  "kernelspec": {
   "display_name": "Python 3.8.10 64-bit",
   "language": "python",
   "name": "python3"
  },
  "language_info": {
   "codemirror_mode": {
    "name": "ipython",
    "version": 3
   },
   "file_extension": ".py",
   "mimetype": "text/x-python",
   "name": "python",
   "nbconvert_exporter": "python",
   "pygments_lexer": "ipython3",
   "version": "3.8.10"
  },
  "orig_nbformat": 4
 },
 "nbformat": 4,
 "nbformat_minor": 2
}
