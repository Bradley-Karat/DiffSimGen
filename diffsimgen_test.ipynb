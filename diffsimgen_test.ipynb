{
 "cells": [
  {
   "cell_type": "code",
   "execution_count": 1,
   "metadata": {},
   "outputs": [
    {
     "name": "stderr",
     "output_type": "stream",
     "text": [
      "No protocol specified\n"
     ]
    }
   ],
   "source": [
    "import dmipy\n",
    "import numpy as np\n",
    "from dmipy.signal_models import cylinder_models, gaussian_models\n",
    "from dmipy.distributions.distribute_models import SD1WatsonDistributed\n",
    "from dmipy.core.modeling_framework import MultiCompartmentModel\n",
    "from dmipy.core.acquisition_scheme import acquisition_scheme_from_bvalues\n",
    "from sklearn.ensemble import BaggingRegressor\n",
    "from sklearn.tree import DecisionTreeRegressor"
   ]
  },
  {
   "cell_type": "markdown",
   "metadata": {},
   "source": [
    "### One criticism of the NODDI model is its fixed free diffusivity at 3e-9 and parallel diffusivity at 1.7e-9. Perhaps with the ML approach, we can include some variability in the fixed diffusion values which may make the fitting more accurate/robust"
   ]
  },
  {
   "cell_type": "code",
   "execution_count": 24,
   "metadata": {},
   "outputs": [],
   "source": [
    "%%capture\n",
    "\n",
    "class NODDI_watson: #Input to class NODDI is all parameters needed to build the NODDI model\n",
    "    def __init__(self,mu,ODI,watson_stick_frac,ball_frac,watson_frac,ball_diff=3e-9,par_free_diff=1.7e-9):\n",
    "        '''\n",
    "        ball_diff: fixed ball diffusivity (default=3e-9 m^2/s)\n",
    "        mu: Orientation of watson distribution\n",
    "        ODI: orientation dispersion index (between 0 and 1)\n",
    "        watson_stick_frac: normalized fraction of stick w/i Watson bundle\n",
    "        ball_frac: ball signal fraction\n",
    "        watson_frac: fraction of watson component (combined intra- extracellular)\n",
    "        par_free_diff: fixed parallel free diffusivity (default=1.7e-9 m^2/s)\n",
    "        '''\n",
    "        self.ball_diff = ball_diff\n",
    "        self.mu = mu\n",
    "        self.ODI = ODI\n",
    "        self.watson_stick_frac = watson_stick_frac\n",
    "        self.ball_frac = ball_frac\n",
    "        self.watson_frac = watson_frac\n",
    "        self.par_free_diff = par_free_diff\n",
    "\n",
    "    def make_model(self):\n",
    "        \n",
    "        ball = gaussian_models.G1Ball()\n",
    "        stick = cylinder_models.C1Stick()\n",
    "        zeppelin = gaussian_models.G2Zeppelin()\n",
    "        watson_bundle = SD1WatsonDistributed(models=[stick, zeppelin])\n",
    "\n",
    "        watson_bundle.set_tortuous_parameter('G2Zeppelin_1_lambda_perp','C1Stick_1_lambda_par','partial_volume_0')\n",
    "        watson_bundle.set_equal_parameter('G2Zeppelin_1_lambda_par', 'C1Stick_1_lambda_par')\n",
    "        watson_bundle.set_fixed_parameter('G2Zeppelin_1_lambda_par', self.par_free_diff) \n",
    "\n",
    "        NODDI_watson_model = MultiCompartmentModel(models=[ball, watson_bundle])\n",
    "        NODDI_watson_model.set_fixed_parameter('G1Ball_1_lambda_iso', self.ball_diff)\n",
    "\n",
    "        model_vector = NODDI_watson_model.parameters_to_parameter_vector(SD1WatsonDistributed_1_SD1Watson_1_mu=self.mu,\n",
    "            SD1WatsonDistributed_1_SD1Watson_1_odi=self.ODI,SD1WatsonDistributed_1_partial_volume_0=self.watson_stick_frac, \n",
    "            partial_volume_0=self.ball_frac,partial_volume_1=self.watson_frac)\n",
    "        \n",
    "        return NODDI_watson_model,model_vector\n",
    "\n",
    "\n",
    "    #def simulate_signal(self,acq_scheme):\n",
    "        \n",
    "       # fullmodel,modelvector = self.make_model()\n",
    "        #signal = fullmodel.simulate_signal(acq_scheme,modelvector)\n",
    "        \n",
    "        #return signal"
   ]
  },
  {
   "cell_type": "code",
   "execution_count": 79,
   "metadata": {},
   "outputs": [],
   "source": [
    "class generate_model_parameter_array:\n",
    "    def __init__(self,numofsim):\n",
    "        self.numofsim = numofsim\n",
    "\n",
    "    def NODDI_watson(self):\n",
    "        theta = np.random.uniform(0,np.pi,size=[self.numofsim,1])\n",
    "        phi = np.random.uniform(0,2*np.pi,size=[self.numofsim,1])\n",
    "        mu = np.c_[theta,phi]\n",
    "        ODI = np.random.uniform(0.001,1,size=[self.numofsim,1])\n",
    "        ballfrac = np.random.uniform(0.001,1,size=[self.numofsim,1])\n",
    "        watsonfrac = 1 - ballfrac\n",
    "        watsonstickfrac = np.random.uniform(0.001,1,size=[self.numofsim,1])\n",
    "\n",
    "        parameter_array = np.c_[mu,ODI,watsonstickfrac,ballfrac,watsonfrac]\n",
    "\n",
    "        return parameter_array\n",
    "\n",
    "    #def DTI(self):\n",
    "\n",
    "\n",
    "    #def SANDI(self):"
   ]
  },
  {
   "cell_type": "code",
   "execution_count": 21,
   "metadata": {},
   "outputs": [],
   "source": [
    "def get_acq_scheme(bval,bvec):\n",
    "    \n",
    "    if type(bval) == str:\n",
    "        bval = np.loadtxt(f'{bval}')\n",
    "        bvec = np.loadtxt(f'{bvec}')\n",
    "\n",
    "    if max(bval) < 1e8:\n",
    "        print('Converting bvalues to s/m^2')\n",
    "        bval = bval * 1e6\n",
    "\n",
    "    acq_scheme = acquisition_scheme_from_bvalues(bval, bvec.T)\n",
    "    return(acq_scheme)\n"
   ]
  },
  {
   "cell_type": "code",
   "execution_count": 80,
   "metadata": {},
   "outputs": [],
   "source": [
    "%%capture\n",
    "class simulate_SNR_signal:\n",
    "  def __init__(self,model,parametervector,S0,SNR,acq_scheme):\n",
    "    self.model = model\n",
    "    self.parametervector = parametervector\n",
    "    self.S0 = S0\n",
    "    self.SNR = SNR\n",
    "    self.acq_scheme = acq_scheme\n",
    "  def simulate_true_signal(self):\n",
    "    self.numofdata = self.acq_scheme.number_of_measurements\n",
    "    self.simulated_data = np.empty((self.numofdata))\n",
    "    self.simulated_data = self.model.simulate_signal(self.acq_scheme,self.parametervector)\n",
    "    return self.simulated_data\n",
    "  def simulate_noisy_signal(self):\n",
    "    self.numofdata = self.acq_scheme.number_of_measurements\n",
    "    sigma = self.S0 / self.SNR #SNR = S0 / std(noise)\n",
    "    noise1 = np.random.normal(0, sigma, size=self.numofdata)\n",
    "    self.noisy_signal = self.simulate_true_signal() + noise1\n",
    "    return self.noisy_signal\n",
    "\n",
    "class simulate_noisemap_signal:\n",
    "  def __init__(self,model,noisemap,acq_scheme):\n",
    "    self.model = model\n",
    "    self.SNR = SNR\n",
    "    self.bvals = bvals\n",
    "    self.bvecs = bvecs\n",
    "  def simulate_true_signal(self):\n",
    "    self.numofdata = self.bvals.shape[0]\n",
    "    self.simulated_data = np.empty((self.numofdata))\n",
    "    for i in range(self.numofdata):\n",
    "      self.simulated_data[i] = self.model.signal_representation(self.S0,self.bvals[i],self.bvecs[i,:])\n",
    "    return self.simulated_data\n",
    "  def simulate_noisy_signal(self):\n",
    "    self.numofdata = self.bvals.shape[0]\n",
    "    sigma = self.S0 / self.SNR #SNR = S0 / std(noise)\n",
    "    noise1 = np.random.normal(0, sigma, size=self.numofdata)\n",
    "    self.noisy_signal = self.simulate_true_signal() + noise1\n",
    "    return(self.noisy_signal)"
   ]
  },
  {
   "cell_type": "code",
   "execution_count": 70,
   "metadata": {},
   "outputs": [],
   "source": [
    "%%capture\n",
    "def generate_NODDI_watson_training_data(numofsim,acq_scheme,S0,SNRarr): #Generate random array of NODDI parameters to then get our simulated signals\n",
    "\n",
    "  numofacq = acq_scheme.number_of_measurements\n",
    "  simulated_data = np.empty((numofsim,numofacq))\n",
    "\n",
    "  parameter_array = generate_model_parameter_array(numofsim).NODDI_watson() #numofsim x 6 array\n",
    "\n",
    "  for ii in range(numofsim):\n",
    "    mu = parameter_array[ii,0:2]\n",
    "    ODI = parameter_array[ii,2]\n",
    "    watsonstickfrac = parameter_array[ii,3]\n",
    "    ballfrac = parameter_array[ii,4]\n",
    "    watsonfrac = parameter_array[ii,5]\n",
    "\n",
    "    model,param_vector = NODDI_watson(mu,ODI,watsonstickfrac,ballfrac,watsonfrac).make_model()\n",
    "    simulated_data[ii,:] = simulate_SNR_signal(model,param_vector,S0,SNRarr[ii],acq_scheme).simulate_noisy_signal()\n",
    "\n",
    "  return simulated_data,parameter_array\n"
   ]
  },
  {
   "cell_type": "code",
   "execution_count": 30,
   "metadata": {},
   "outputs": [],
   "source": [
    "%%capture\n",
    "def diffsimgen(model,numofsim,bval,bvec,S0,SNR): #returns signal and parameter array for training\n",
    "  if type(SNR) == int or len(SNR) == 1:\n",
    "    SNRarr = np.tile(SNR,numofsim)\n",
    "  elif len(SNR) == 2:\n",
    "    SNRarr = np.random.uniform(SNR[0],SNR[1],size=[numofsim,1]) #if len(SNR) == 2 then assume that someone wants to randomly sample SNR between low and high\n",
    "  else:\n",
    "    SNRarr = np.tile(SNR,int(np.ceil(2030/len(SNR)))) #if len(SNR) > 2 then assume that someone wants to generate signal using all provided SNR values\n",
    "\n",
    "  acq_scheme = get_acq_scheme(bval,bvec)\n",
    "  function_name = f'generate_{model}_training_data'\n",
    "  function = globals()[function_name]\n",
    "    \n",
    "\n",
    "  signal,parameters = function(numofsim,acq_scheme,S0,SNRarr)\n",
    "\n",
    "  return signal,parameters"
   ]
  },
  {
   "cell_type": "code",
   "execution_count": null,
   "metadata": {},
   "outputs": [],
   "source": [
    "function"
   ]
  },
  {
   "cell_type": "code",
   "execution_count": 109,
   "metadata": {},
   "outputs": [],
   "source": [
    "%%capture\n",
    "\n",
    "in_dir = '/scratch/bkarat/SANDI_fit_test/input/sub-01/dwi'\n",
    "\n",
    "bvalues = np.loadtxt(f'{in_dir}/sub-01_CHARMED_dwi.bval')\n",
    "bvecs = np.loadtxt(f'{in_dir}/sub-01_CHARMED_dwi.bvec')\n",
    "\n",
    "signal,parameters = diffsimgen('NODDI_watson',10000,bvalues,bvecs,160,50)"
   ]
  },
  {
   "cell_type": "markdown",
   "metadata": {},
   "source": [
    "## SNR for each shell"
   ]
  },
  {
   "cell_type": "code",
   "execution_count": 37,
   "metadata": {},
   "outputs": [],
   "source": [
    "in_dir = '/home/ROBARTS/bkarat/graham/scratch/SANDI_fit_test/input/sub-01/dwi'\n",
    "signalmask = nib.load(f'{in_dir}/signal_mask.nii.gz').get_fdata().flatten()\n",
    "noisemask = nib.load(f'{in_dir}/noise_mask.nii.gz').get_fdata().flatten()\n",
    "\n",
    "dwi = nib.load(f'{in_dir}/sub-01_CHARMED_dwi.nii.gz')\n",
    "dwidata = dwi.get_fdata()\n",
    "dwidata = np.reshape(dwidata,[-1,266])\n",
    "\n",
    "bvalues = np.loadtxt(f'{in_dir}/sub-01_CHARMED_dwi.bval')\n",
    "bvecs = np.loadtxt(f'{in_dir}/sub-01_CHARMED_dwi.bvec')\n"
   ]
  },
  {
   "cell_type": "code",
   "execution_count": 49,
   "metadata": {},
   "outputs": [
    {
     "name": "stdout",
     "output_type": "stream",
     "text": [
      "198.3046897462104\n",
      "SNR=36.14278501930628 for b=0.0\n",
      "166.84126218577018\n",
      "SNR=42.43274978804616 for b=200.0\n",
      "132.6470095431072\n",
      "SNR=37.79485554125643 for b=500.0\n",
      "86.8906546403026\n",
      "SNR=28.027385548769203 for b=1200.0\n",
      "54.88615405975001\n",
      "SNR=18.0922624362641 for b=2400.0\n"
     ]
    }
   ],
   "source": [
    "b0ind = bvalues==0\n",
    "b200ind = bvalues==200\n",
    "b500ind = bvalues==500\n",
    "b1200ind = bvalues==1200\n",
    "b2400ind = bvalues==2400\n",
    "\n",
    "bind = np.c_[b0ind, b200ind,b500ind,b1200ind,b2400ind]\n",
    "bunique = np.unique(bvalues)\n",
    "\n",
    "for ii in range(5):\n",
    "    signalhold = dwidata[signalmask==1,:]\n",
    "    signal = np.mean(signalhold[:,bind[:,ii]])\n",
    "    print(signal)\n",
    "    noisehold = dwidata[noisemask==1,:]\n",
    "    noise = np.std(noisehold[:,bind[:,ii]])\n",
    "    SNR = signal/noise\n",
    "    print(f'SNR={SNR} for b={bunique[ii]}')\n"
   ]
  },
  {
   "cell_type": "markdown",
   "metadata": {},
   "source": [
    "## Simulating from final toolbox"
   ]
  },
  {
   "cell_type": "code",
   "execution_count": 50,
   "metadata": {},
   "outputs": [
    {
     "name": "stdout",
     "output_type": "stream",
     "text": [
      "Converting bvalues to s/m^2\n"
     ]
    }
   ],
   "source": [
    "import sys\n",
    "sys.path.append('/home/ROBARTS/bkarat/graham/DiffSimGen')\n",
    "from diffsimgen import diffsimrun\n",
    "\n",
    "in_dir = '/home/ROBARTS/bkarat/graham/scratch/SANDI_fit_test/input/sub-01/dwi'\n",
    "\n",
    "bvalues = np.loadtxt(f'{in_dir}/sub-01_CHARMED_dwi.bval')\n",
    "bvecs = np.loadtxt(f'{in_dir}/sub-01_CHARMED_dwi.bvec')\n",
    "\n",
    "signal,parameters,parameter_names = diffsimrun(model='NODDI_watson',bval=bvalues,bvec=bvecs,S0=[50,200],SNR=[15,50],numofsim=100000)"
   ]
  },
  {
   "cell_type": "code",
   "execution_count": 52,
   "metadata": {},
   "outputs": [],
   "source": [
    "Mdl = []\n",
    "MLprediction = np.zeros((parameters.shape))\n",
    "training_performances = []\n",
    "\n",
    "    #Mdl[i] = sk.ensemble.BaggingRegressor(estimator=sklearn.tree.DecisionTreeRegressor(),n_estimators=n_trees,bootstrap=True,oob_score=True).fit(database_train,params_train[:,i])\n",
    "RFregress = BaggingRegressor(n_estimators=300,bootstrap=True,oob_score=True)\n",
    "Mdl.append(RFregress.fit(signal,parameters[:,2]))\n",
    "#MLprediction[:,0] = Mdl[0].predict(signal)\n",
    "    \n",
    "#training_performances.append(Mdl[0].oob_score_)"
   ]
  },
  {
   "cell_type": "code",
   "execution_count": 54,
   "metadata": {},
   "outputs": [],
   "source": [
    "import nibabel as nib\n",
    "\n",
    "in_dir = '/home/ROBARTS/bkarat/graham/scratch/SANDI_fit_test/input/sub-01/dwi'\n",
    "dwi = nib.load(f'{in_dir}/sub-01_CHARMED_dwi.nii.gz')\n",
    "dwidata = dwi.get_fdata()\n",
    "mask = nib.load(f'{in_dir}/sub-01_CHARMED_brain_mask.nii.gz').get_fdata().flatten()"
   ]
  },
  {
   "cell_type": "code",
   "execution_count": 55,
   "metadata": {},
   "outputs": [],
   "source": [
    "#NORMALIZE DATA\n",
    "dwidatatrain = np.reshape(dwidata,[-1,266])\n",
    "indS0 = bvalues==0\n",
    "dwidatatrainnorm = np.zeros((dwidatatrain.shape))\n",
    "for ii in range(dwidatatrain.shape[0]):\n",
    "    B0mean = np.mean(dwidatatrain[ii,indS0])\n",
    "    dwidatatrainnorm[ii,:] = dwidatatrain[ii,:] / B0mean"
   ]
  },
  {
   "cell_type": "code",
   "execution_count": 63,
   "metadata": {},
   "outputs": [],
   "source": [
    "ODImean = np.zeros((dwidatatrainnorm.shape[0],1))\n",
    "maskind = mask==1\n",
    "ODImean[maskind,0] = Mdl[0].predict(dwidatatrainnorm[maskind,:])"
   ]
  },
  {
   "cell_type": "code",
   "execution_count": 11,
   "metadata": {},
   "outputs": [],
   "source": [
    "a,b,c,d = dwidata.shape\n",
    "ODI = np.reshape(ODImean,[a,b,c])\n",
    "img = nib.Nifti1Image(ODI,dwi.affine)\n",
    "nib.save(img,f'{in_dir}/ODITEST.nii.gz')"
   ]
  },
  {
   "cell_type": "code",
   "execution_count": null,
   "metadata": {},
   "outputs": [],
   "source": []
  },
  {
   "cell_type": "markdown",
   "metadata": {},
   "source": [
    "### Now try building RF to go from noisy signal to parameters. Once built, try and run single subject image through (calculate SNR and S0 first) - perhaps try finding max and min SNR in the image and then just generate numofsim random integers between those numbers"
   ]
  },
  {
   "cell_type": "code",
   "execution_count": 348,
   "metadata": {},
   "outputs": [],
   "source": [
    "Mdl = []\n",
    "MLprediction = np.zeros((parameters.shape))\n",
    "training_performances = []\n",
    "\n",
    "for i in range(parameters.shape[1]):\n",
    "\n",
    "    #Mdl[i] = sk.ensemble.BaggingRegressor(estimator=sklearn.tree.DecisionTreeRegressor(),n_estimators=n_trees,bootstrap=True,oob_score=True).fit(database_train,params_train[:,i])\n",
    "    RFregress = BaggingRegressor(n_estimators=300,bootstrap=True,oob_score=True)\n",
    "    Mdl.append(RFregress.fit(signal,parameters[:,i]))\n",
    "    MLprediction[:,i] = Mdl[i].predict(signal)\n",
    "    \n",
    "    training_performances.append(Mdl[i].oob_score_)"
   ]
  },
  {
   "cell_type": "code",
   "execution_count": 83,
   "metadata": {},
   "outputs": [],
   "source": [
    "Mdl = []\n",
    "MLprediction = np.zeros((parameters.shape))\n",
    "training_performances = []\n",
    "\n",
    "    #Mdl[i] = sk.ensemble.BaggingRegressor(estimator=sklearn.tree.DecisionTreeRegressor(),n_estimators=n_trees,bootstrap=True,oob_score=True).fit(database_train,params_train[:,i])\n",
    "RFregress = BaggingRegressor(n_estimators=300,bootstrap=True,oob_score=True)\n",
    "Mdl.append(RFregress.fit(signal,parameters[:,2]))\n",
    "MLprediction[:,0] = Mdl[0].predict(signal)\n",
    "    \n",
    "training_performances.append(Mdl[0].oob_score_)"
   ]
  },
  {
   "cell_type": "code",
   "execution_count": 85,
   "metadata": {},
   "outputs": [],
   "source": [
    "import nibabel as nib\n",
    "\n",
    "in_dir = '/home/ROBARTS/bkarat/graham/scratch/SANDI_fit_test/input/sub-01/dwi'\n",
    "dwi = nib.load(f'{in_dir}/sub-01_CHARMED_dwi.nii.gz')\n",
    "dwidata = dwi.get_fdata()\n",
    "mask = nib.load(f'{in_dir}/sub-01_CHARMED_brain_mask.nii.gz').get_fdata().flatten()"
   ]
  },
  {
   "cell_type": "code",
   "execution_count": 108,
   "metadata": {},
   "outputs": [],
   "source": [
    "#NORMALIZE DATA\n",
    "dwidatatrain = np.reshape(dwidata,[-1,266])\n",
    "indS0 = bvalues==0\n",
    "dwidatatrainnorm = np.zeros((dwidatatrain.shape))\n",
    "for ii in range(dwidatatrain.shape[0]):\n",
    "    B0mean = np.mean(dwidatatrain[ii,indS0])\n",
    "    dwidatatrainnorm[ii,:] = dwidatatrain[ii,:] / B0mean"
   ]
  },
  {
   "cell_type": "code",
   "execution_count": 366,
   "metadata": {},
   "outputs": [
    {
     "ename": "KeyboardInterrupt",
     "evalue": "",
     "output_type": "error",
     "traceback": [
      "\u001b[0;31m---------------------------------------------------------------------------\u001b[0m",
      "\u001b[0;31mKeyboardInterrupt\u001b[0m                         Traceback (most recent call last)",
      "Cell \u001b[0;32mIn[366], line 6\u001b[0m\n\u001b[1;32m      4\u001b[0m \u001b[38;5;28;01mfor\u001b[39;00m jj \u001b[38;5;129;01min\u001b[39;00m \u001b[38;5;28mrange\u001b[39m(dwidatatrain\u001b[38;5;241m.\u001b[39mshape[\u001b[38;5;241m0\u001b[39m]):\n\u001b[1;32m      5\u001b[0m     \u001b[38;5;28;01mif\u001b[39;00m mask[jj] \u001b[38;5;241m==\u001b[39m \u001b[38;5;241m1\u001b[39m:\n\u001b[0;32m----> 6\u001b[0m         mpgMean[:,i] \u001b[38;5;241m=\u001b[39m \u001b[43mMdl\u001b[49m\u001b[43m[\u001b[49m\u001b[43mi\u001b[49m\u001b[43m]\u001b[49m\u001b[38;5;241;43m.\u001b[39;49m\u001b[43mpredict\u001b[49m\u001b[43m(\u001b[49m\u001b[43mdwidatatrain\u001b[49m\u001b[43m[\u001b[49m\u001b[43mjj\u001b[49m\u001b[43m,\u001b[49m\u001b[43m:\u001b[49m\u001b[43m]\u001b[49m\u001b[38;5;241;43m.\u001b[39;49m\u001b[43mreshape\u001b[49m\u001b[43m(\u001b[49m\u001b[38;5;241;43m1\u001b[39;49m\u001b[43m,\u001b[49m\u001b[38;5;241;43m-\u001b[39;49m\u001b[38;5;241;43m1\u001b[39;49m\u001b[43m)\u001b[49m\u001b[43m)\u001b[49m\n",
      "File \u001b[0;32m~/.local/lib/python3.8/site-packages/sklearn/ensemble/_bagging.py:1129\u001b[0m, in \u001b[0;36mBaggingRegressor.predict\u001b[0;34m(self, X)\u001b[0m\n\u001b[1;32m   <a href='file:///home/ROBARTS/bkarat/.local/lib/python3.8/site-packages/sklearn/ensemble/_bagging.py?line=1123'>1124</a>\u001b[0m \u001b[39m# Parallel loop\u001b[39;00m\n\u001b[1;32m   <a href='file:///home/ROBARTS/bkarat/.local/lib/python3.8/site-packages/sklearn/ensemble/_bagging.py?line=1124'>1125</a>\u001b[0m n_jobs, n_estimators, starts \u001b[39m=\u001b[39m _partition_estimators(\n\u001b[1;32m   <a href='file:///home/ROBARTS/bkarat/.local/lib/python3.8/site-packages/sklearn/ensemble/_bagging.py?line=1125'>1126</a>\u001b[0m     \u001b[39mself\u001b[39m\u001b[39m.\u001b[39mn_estimators, \u001b[39mself\u001b[39m\u001b[39m.\u001b[39mn_jobs\n\u001b[1;32m   <a href='file:///home/ROBARTS/bkarat/.local/lib/python3.8/site-packages/sklearn/ensemble/_bagging.py?line=1126'>1127</a>\u001b[0m )\n\u001b[0;32m-> <a href='file:///home/ROBARTS/bkarat/.local/lib/python3.8/site-packages/sklearn/ensemble/_bagging.py?line=1128'>1129</a>\u001b[0m all_y_hat \u001b[39m=\u001b[39m Parallel(n_jobs\u001b[39m=\u001b[39;49mn_jobs, verbose\u001b[39m=\u001b[39;49m\u001b[39mself\u001b[39;49m\u001b[39m.\u001b[39;49mverbose)(\n\u001b[1;32m   <a href='file:///home/ROBARTS/bkarat/.local/lib/python3.8/site-packages/sklearn/ensemble/_bagging.py?line=1129'>1130</a>\u001b[0m     delayed(_parallel_predict_regression)(\n\u001b[1;32m   <a href='file:///home/ROBARTS/bkarat/.local/lib/python3.8/site-packages/sklearn/ensemble/_bagging.py?line=1130'>1131</a>\u001b[0m         \u001b[39mself\u001b[39;49m\u001b[39m.\u001b[39;49mestimators_[starts[i] : starts[i \u001b[39m+\u001b[39;49m \u001b[39m1\u001b[39;49m]],\n\u001b[1;32m   <a href='file:///home/ROBARTS/bkarat/.local/lib/python3.8/site-packages/sklearn/ensemble/_bagging.py?line=1131'>1132</a>\u001b[0m         \u001b[39mself\u001b[39;49m\u001b[39m.\u001b[39;49mestimators_features_[starts[i] : starts[i \u001b[39m+\u001b[39;49m \u001b[39m1\u001b[39;49m]],\n\u001b[1;32m   <a href='file:///home/ROBARTS/bkarat/.local/lib/python3.8/site-packages/sklearn/ensemble/_bagging.py?line=1132'>1133</a>\u001b[0m         X,\n\u001b[1;32m   <a href='file:///home/ROBARTS/bkarat/.local/lib/python3.8/site-packages/sklearn/ensemble/_bagging.py?line=1133'>1134</a>\u001b[0m     )\n\u001b[1;32m   <a href='file:///home/ROBARTS/bkarat/.local/lib/python3.8/site-packages/sklearn/ensemble/_bagging.py?line=1134'>1135</a>\u001b[0m     \u001b[39mfor\u001b[39;49;00m i \u001b[39min\u001b[39;49;00m \u001b[39mrange\u001b[39;49m(n_jobs)\n\u001b[1;32m   <a href='file:///home/ROBARTS/bkarat/.local/lib/python3.8/site-packages/sklearn/ensemble/_bagging.py?line=1135'>1136</a>\u001b[0m )\n\u001b[1;32m   <a href='file:///home/ROBARTS/bkarat/.local/lib/python3.8/site-packages/sklearn/ensemble/_bagging.py?line=1137'>1138</a>\u001b[0m \u001b[39m# Reduce\u001b[39;00m\n\u001b[1;32m   <a href='file:///home/ROBARTS/bkarat/.local/lib/python3.8/site-packages/sklearn/ensemble/_bagging.py?line=1138'>1139</a>\u001b[0m y_hat \u001b[39m=\u001b[39m \u001b[39msum\u001b[39m(all_y_hat) \u001b[39m/\u001b[39m \u001b[39mself\u001b[39m\u001b[39m.\u001b[39mn_estimators\n",
      "File \u001b[0;32m~/.local/lib/python3.8/site-packages/joblib/parallel.py:1863\u001b[0m, in \u001b[0;36mParallel.__call__\u001b[0;34m(self, iterable)\u001b[0m\n\u001b[1;32m   <a href='file:///home/ROBARTS/bkarat/.local/lib/python3.8/site-packages/joblib/parallel.py?line=1860'>1861</a>\u001b[0m     output \u001b[39m=\u001b[39m \u001b[39mself\u001b[39m\u001b[39m.\u001b[39m_get_sequential_output(iterable)\n\u001b[1;32m   <a href='file:///home/ROBARTS/bkarat/.local/lib/python3.8/site-packages/joblib/parallel.py?line=1861'>1862</a>\u001b[0m     \u001b[39mnext\u001b[39m(output)\n\u001b[0;32m-> <a href='file:///home/ROBARTS/bkarat/.local/lib/python3.8/site-packages/joblib/parallel.py?line=1862'>1863</a>\u001b[0m     \u001b[39mreturn\u001b[39;00m output \u001b[39mif\u001b[39;00m \u001b[39mself\u001b[39m\u001b[39m.\u001b[39mreturn_generator \u001b[39melse\u001b[39;00m \u001b[39mlist\u001b[39;49m(output)\n\u001b[1;32m   <a href='file:///home/ROBARTS/bkarat/.local/lib/python3.8/site-packages/joblib/parallel.py?line=1864'>1865</a>\u001b[0m \u001b[39m# Let's create an ID that uniquely identifies the current call. If the\u001b[39;00m\n\u001b[1;32m   <a href='file:///home/ROBARTS/bkarat/.local/lib/python3.8/site-packages/joblib/parallel.py?line=1865'>1866</a>\u001b[0m \u001b[39m# call is interrupted early and that the same instance is immediately\u001b[39;00m\n\u001b[1;32m   <a href='file:///home/ROBARTS/bkarat/.local/lib/python3.8/site-packages/joblib/parallel.py?line=1866'>1867</a>\u001b[0m \u001b[39m# re-used, this id will be used to prevent workers that were\u001b[39;00m\n\u001b[1;32m   <a href='file:///home/ROBARTS/bkarat/.local/lib/python3.8/site-packages/joblib/parallel.py?line=1867'>1868</a>\u001b[0m \u001b[39m# concurrently finalizing a task from the previous call to run the\u001b[39;00m\n\u001b[1;32m   <a href='file:///home/ROBARTS/bkarat/.local/lib/python3.8/site-packages/joblib/parallel.py?line=1868'>1869</a>\u001b[0m \u001b[39m# callback.\u001b[39;00m\n\u001b[1;32m   <a href='file:///home/ROBARTS/bkarat/.local/lib/python3.8/site-packages/joblib/parallel.py?line=1869'>1870</a>\u001b[0m \u001b[39mwith\u001b[39;00m \u001b[39mself\u001b[39m\u001b[39m.\u001b[39m_lock:\n",
      "File \u001b[0;32m~/.local/lib/python3.8/site-packages/joblib/parallel.py:1792\u001b[0m, in \u001b[0;36mParallel._get_sequential_output\u001b[0;34m(self, iterable)\u001b[0m\n\u001b[1;32m   <a href='file:///home/ROBARTS/bkarat/.local/lib/python3.8/site-packages/joblib/parallel.py?line=1789'>1790</a>\u001b[0m \u001b[39mself\u001b[39m\u001b[39m.\u001b[39mn_dispatched_batches \u001b[39m+\u001b[39m\u001b[39m=\u001b[39m \u001b[39m1\u001b[39m\n\u001b[1;32m   <a href='file:///home/ROBARTS/bkarat/.local/lib/python3.8/site-packages/joblib/parallel.py?line=1790'>1791</a>\u001b[0m \u001b[39mself\u001b[39m\u001b[39m.\u001b[39mn_dispatched_tasks \u001b[39m+\u001b[39m\u001b[39m=\u001b[39m \u001b[39m1\u001b[39m\n\u001b[0;32m-> <a href='file:///home/ROBARTS/bkarat/.local/lib/python3.8/site-packages/joblib/parallel.py?line=1791'>1792</a>\u001b[0m res \u001b[39m=\u001b[39m func(\u001b[39m*\u001b[39;49margs, \u001b[39m*\u001b[39;49m\u001b[39m*\u001b[39;49mkwargs)\n\u001b[1;32m   <a href='file:///home/ROBARTS/bkarat/.local/lib/python3.8/site-packages/joblib/parallel.py?line=1792'>1793</a>\u001b[0m \u001b[39mself\u001b[39m\u001b[39m.\u001b[39mn_completed_tasks \u001b[39m+\u001b[39m\u001b[39m=\u001b[39m \u001b[39m1\u001b[39m\n\u001b[1;32m   <a href='file:///home/ROBARTS/bkarat/.local/lib/python3.8/site-packages/joblib/parallel.py?line=1793'>1794</a>\u001b[0m \u001b[39mself\u001b[39m\u001b[39m.\u001b[39mprint_progress()\n",
      "File \u001b[0;32m~/.local/lib/python3.8/site-packages/sklearn/utils/fixes.py:216\u001b[0m, in \u001b[0;36m_FuncWrapper.__call__\u001b[0;34m(self, *args, **kwargs)\u001b[0m\n\u001b[1;32m    <a href='file:///home/ROBARTS/bkarat/.local/lib/python3.8/site-packages/sklearn/utils/fixes.py?line=213'>214</a>\u001b[0m \u001b[39mdef\u001b[39;00m \u001b[39m__call__\u001b[39m(\u001b[39mself\u001b[39m, \u001b[39m*\u001b[39margs, \u001b[39m*\u001b[39m\u001b[39m*\u001b[39mkwargs):\n\u001b[1;32m    <a href='file:///home/ROBARTS/bkarat/.local/lib/python3.8/site-packages/sklearn/utils/fixes.py?line=214'>215</a>\u001b[0m     \u001b[39mwith\u001b[39;00m config_context(\u001b[39m*\u001b[39m\u001b[39m*\u001b[39m\u001b[39mself\u001b[39m\u001b[39m.\u001b[39mconfig):\n\u001b[0;32m--> <a href='file:///home/ROBARTS/bkarat/.local/lib/python3.8/site-packages/sklearn/utils/fixes.py?line=215'>216</a>\u001b[0m         \u001b[39mreturn\u001b[39;00m \u001b[39mself\u001b[39;49m\u001b[39m.\u001b[39;49mfunction(\u001b[39m*\u001b[39;49margs, \u001b[39m*\u001b[39;49m\u001b[39m*\u001b[39;49mkwargs)\n",
      "File \u001b[0;32m~/.local/lib/python3.8/site-packages/sklearn/ensemble/_bagging.py:196\u001b[0m, in \u001b[0;36m_parallel_predict_regression\u001b[0;34m(estimators, estimators_features, X)\u001b[0m\n\u001b[1;32m    <a href='file:///home/ROBARTS/bkarat/.local/lib/python3.8/site-packages/sklearn/ensemble/_bagging.py?line=193'>194</a>\u001b[0m \u001b[39mdef\u001b[39;00m \u001b[39m_parallel_predict_regression\u001b[39m(estimators, estimators_features, X):\n\u001b[1;32m    <a href='file:///home/ROBARTS/bkarat/.local/lib/python3.8/site-packages/sklearn/ensemble/_bagging.py?line=194'>195</a>\u001b[0m \u001b[39m    \u001b[39m\u001b[39m\"\"\"Private function used to compute predictions within a job.\"\"\"\u001b[39;00m\n\u001b[0;32m--> <a href='file:///home/ROBARTS/bkarat/.local/lib/python3.8/site-packages/sklearn/ensemble/_bagging.py?line=195'>196</a>\u001b[0m     \u001b[39mreturn\u001b[39;00m \u001b[39msum\u001b[39;49m(\n\u001b[1;32m    <a href='file:///home/ROBARTS/bkarat/.local/lib/python3.8/site-packages/sklearn/ensemble/_bagging.py?line=196'>197</a>\u001b[0m         estimator\u001b[39m.\u001b[39;49mpredict(X[:, features])\n\u001b[1;32m    <a href='file:///home/ROBARTS/bkarat/.local/lib/python3.8/site-packages/sklearn/ensemble/_bagging.py?line=197'>198</a>\u001b[0m         \u001b[39mfor\u001b[39;49;00m estimator, features \u001b[39min\u001b[39;49;00m \u001b[39mzip\u001b[39;49m(estimators, estimators_features)\n\u001b[1;32m    <a href='file:///home/ROBARTS/bkarat/.local/lib/python3.8/site-packages/sklearn/ensemble/_bagging.py?line=198'>199</a>\u001b[0m     )\n",
      "File \u001b[0;32m~/.local/lib/python3.8/site-packages/sklearn/ensemble/_bagging.py:197\u001b[0m, in \u001b[0;36m<genexpr>\u001b[0;34m(.0)\u001b[0m\n\u001b[1;32m    <a href='file:///home/ROBARTS/bkarat/.local/lib/python3.8/site-packages/sklearn/ensemble/_bagging.py?line=193'>194</a>\u001b[0m \u001b[39mdef\u001b[39;00m \u001b[39m_parallel_predict_regression\u001b[39m(estimators, estimators_features, X):\n\u001b[1;32m    <a href='file:///home/ROBARTS/bkarat/.local/lib/python3.8/site-packages/sklearn/ensemble/_bagging.py?line=194'>195</a>\u001b[0m \u001b[39m    \u001b[39m\u001b[39m\"\"\"Private function used to compute predictions within a job.\"\"\"\u001b[39;00m\n\u001b[1;32m    <a href='file:///home/ROBARTS/bkarat/.local/lib/python3.8/site-packages/sklearn/ensemble/_bagging.py?line=195'>196</a>\u001b[0m     \u001b[39mreturn\u001b[39;00m \u001b[39msum\u001b[39m(\n\u001b[0;32m--> <a href='file:///home/ROBARTS/bkarat/.local/lib/python3.8/site-packages/sklearn/ensemble/_bagging.py?line=196'>197</a>\u001b[0m         estimator\u001b[39m.\u001b[39;49mpredict(X[:, features])\n\u001b[1;32m    <a href='file:///home/ROBARTS/bkarat/.local/lib/python3.8/site-packages/sklearn/ensemble/_bagging.py?line=197'>198</a>\u001b[0m         \u001b[39mfor\u001b[39;00m estimator, features \u001b[39min\u001b[39;00m \u001b[39mzip\u001b[39m(estimators, estimators_features)\n\u001b[1;32m    <a href='file:///home/ROBARTS/bkarat/.local/lib/python3.8/site-packages/sklearn/ensemble/_bagging.py?line=198'>199</a>\u001b[0m     )\n",
      "File \u001b[0;32m~/.local/lib/python3.8/site-packages/sklearn/tree/_classes.py:467\u001b[0m, in \u001b[0;36mBaseDecisionTree.predict\u001b[0;34m(self, X, check_input)\u001b[0m\n\u001b[1;32m    <a href='file:///home/ROBARTS/bkarat/.local/lib/python3.8/site-packages/sklearn/tree/_classes.py?line=443'>444</a>\u001b[0m \u001b[39m\u001b[39m\u001b[39m\"\"\"Predict class or regression value for X.\u001b[39;00m\n\u001b[1;32m    <a href='file:///home/ROBARTS/bkarat/.local/lib/python3.8/site-packages/sklearn/tree/_classes.py?line=444'>445</a>\u001b[0m \n\u001b[1;32m    <a href='file:///home/ROBARTS/bkarat/.local/lib/python3.8/site-packages/sklearn/tree/_classes.py?line=445'>446</a>\u001b[0m \u001b[39mFor a classification model, the predicted class for each sample in X is\u001b[39;00m\n\u001b[0;32m   (...)\u001b[0m\n\u001b[1;32m    <a href='file:///home/ROBARTS/bkarat/.local/lib/python3.8/site-packages/sklearn/tree/_classes.py?line=463'>464</a>\u001b[0m \u001b[39m    The predicted classes, or the predict values.\u001b[39;00m\n\u001b[1;32m    <a href='file:///home/ROBARTS/bkarat/.local/lib/python3.8/site-packages/sklearn/tree/_classes.py?line=464'>465</a>\u001b[0m \u001b[39m\"\"\"\u001b[39;00m\n\u001b[1;32m    <a href='file:///home/ROBARTS/bkarat/.local/lib/python3.8/site-packages/sklearn/tree/_classes.py?line=465'>466</a>\u001b[0m check_is_fitted(\u001b[39mself\u001b[39m)\n\u001b[0;32m--> <a href='file:///home/ROBARTS/bkarat/.local/lib/python3.8/site-packages/sklearn/tree/_classes.py?line=466'>467</a>\u001b[0m X \u001b[39m=\u001b[39m \u001b[39mself\u001b[39;49m\u001b[39m.\u001b[39;49m_validate_X_predict(X, check_input)\n\u001b[1;32m    <a href='file:///home/ROBARTS/bkarat/.local/lib/python3.8/site-packages/sklearn/tree/_classes.py?line=467'>468</a>\u001b[0m proba \u001b[39m=\u001b[39m \u001b[39mself\u001b[39m\u001b[39m.\u001b[39mtree_\u001b[39m.\u001b[39mpredict(X)\n\u001b[1;32m    <a href='file:///home/ROBARTS/bkarat/.local/lib/python3.8/site-packages/sklearn/tree/_classes.py?line=468'>469</a>\u001b[0m n_samples \u001b[39m=\u001b[39m X\u001b[39m.\u001b[39mshape[\u001b[39m0\u001b[39m]\n",
      "File \u001b[0;32m~/.local/lib/python3.8/site-packages/sklearn/tree/_classes.py:433\u001b[0m, in \u001b[0;36mBaseDecisionTree._validate_X_predict\u001b[0;34m(self, X, check_input)\u001b[0m\n\u001b[1;32m    <a href='file:///home/ROBARTS/bkarat/.local/lib/python3.8/site-packages/sklearn/tree/_classes.py?line=430'>431</a>\u001b[0m \u001b[39m\u001b[39m\u001b[39m\"\"\"Validate the training data on predict (probabilities).\"\"\"\u001b[39;00m\n\u001b[1;32m    <a href='file:///home/ROBARTS/bkarat/.local/lib/python3.8/site-packages/sklearn/tree/_classes.py?line=431'>432</a>\u001b[0m \u001b[39mif\u001b[39;00m check_input:\n\u001b[0;32m--> <a href='file:///home/ROBARTS/bkarat/.local/lib/python3.8/site-packages/sklearn/tree/_classes.py?line=432'>433</a>\u001b[0m     X \u001b[39m=\u001b[39m \u001b[39mself\u001b[39;49m\u001b[39m.\u001b[39;49m_validate_data(X, dtype\u001b[39m=\u001b[39;49mDTYPE, accept_sparse\u001b[39m=\u001b[39;49m\u001b[39m\"\u001b[39;49m\u001b[39mcsr\u001b[39;49m\u001b[39m\"\u001b[39;49m, reset\u001b[39m=\u001b[39;49m\u001b[39mFalse\u001b[39;49;00m)\n\u001b[1;32m    <a href='file:///home/ROBARTS/bkarat/.local/lib/python3.8/site-packages/sklearn/tree/_classes.py?line=433'>434</a>\u001b[0m     \u001b[39mif\u001b[39;00m issparse(X) \u001b[39mand\u001b[39;00m (\n\u001b[1;32m    <a href='file:///home/ROBARTS/bkarat/.local/lib/python3.8/site-packages/sklearn/tree/_classes.py?line=434'>435</a>\u001b[0m         X\u001b[39m.\u001b[39mindices\u001b[39m.\u001b[39mdtype \u001b[39m!=\u001b[39m np\u001b[39m.\u001b[39mintc \u001b[39mor\u001b[39;00m X\u001b[39m.\u001b[39mindptr\u001b[39m.\u001b[39mdtype \u001b[39m!=\u001b[39m np\u001b[39m.\u001b[39mintc\n\u001b[1;32m    <a href='file:///home/ROBARTS/bkarat/.local/lib/python3.8/site-packages/sklearn/tree/_classes.py?line=435'>436</a>\u001b[0m     ):\n\u001b[1;32m    <a href='file:///home/ROBARTS/bkarat/.local/lib/python3.8/site-packages/sklearn/tree/_classes.py?line=436'>437</a>\u001b[0m         \u001b[39mraise\u001b[39;00m \u001b[39mValueError\u001b[39;00m(\u001b[39m\"\u001b[39m\u001b[39mNo support for np.int64 index based sparse matrices\u001b[39m\u001b[39m\"\u001b[39m)\n",
      "File \u001b[0;32m~/.local/lib/python3.8/site-packages/sklearn/base.py:566\u001b[0m, in \u001b[0;36mBaseEstimator._validate_data\u001b[0;34m(self, X, y, reset, validate_separately, **check_params)\u001b[0m\n\u001b[1;32m    <a href='file:///home/ROBARTS/bkarat/.local/lib/python3.8/site-packages/sklearn/base.py?line=563'>564</a>\u001b[0m     \u001b[39mraise\u001b[39;00m \u001b[39mValueError\u001b[39;00m(\u001b[39m\"\u001b[39m\u001b[39mValidation should be done on X, y or both.\u001b[39m\u001b[39m\"\u001b[39m)\n\u001b[1;32m    <a href='file:///home/ROBARTS/bkarat/.local/lib/python3.8/site-packages/sklearn/base.py?line=564'>565</a>\u001b[0m \u001b[39melif\u001b[39;00m \u001b[39mnot\u001b[39;00m no_val_X \u001b[39mand\u001b[39;00m no_val_y:\n\u001b[0;32m--> <a href='file:///home/ROBARTS/bkarat/.local/lib/python3.8/site-packages/sklearn/base.py?line=565'>566</a>\u001b[0m     X \u001b[39m=\u001b[39m check_array(X, \u001b[39m*\u001b[39;49m\u001b[39m*\u001b[39;49mcheck_params)\n\u001b[1;32m    <a href='file:///home/ROBARTS/bkarat/.local/lib/python3.8/site-packages/sklearn/base.py?line=566'>567</a>\u001b[0m     out \u001b[39m=\u001b[39m X\n\u001b[1;32m    <a href='file:///home/ROBARTS/bkarat/.local/lib/python3.8/site-packages/sklearn/base.py?line=567'>568</a>\u001b[0m \u001b[39melif\u001b[39;00m no_val_X \u001b[39mand\u001b[39;00m \u001b[39mnot\u001b[39;00m no_val_y:\n",
      "File \u001b[0;32m~/.local/lib/python3.8/site-packages/sklearn/utils/validation.py:800\u001b[0m, in \u001b[0;36mcheck_array\u001b[0;34m(array, accept_sparse, accept_large_sparse, dtype, order, copy, force_all_finite, ensure_2d, allow_nd, ensure_min_samples, ensure_min_features, estimator)\u001b[0m\n\u001b[1;32m    <a href='file:///home/ROBARTS/bkarat/.local/lib/python3.8/site-packages/sklearn/utils/validation.py?line=793'>794</a>\u001b[0m         \u001b[39mraise\u001b[39;00m \u001b[39mValueError\u001b[39;00m(\n\u001b[1;32m    <a href='file:///home/ROBARTS/bkarat/.local/lib/python3.8/site-packages/sklearn/utils/validation.py?line=794'>795</a>\u001b[0m             \u001b[39m\"\u001b[39m\u001b[39mFound array with dim \u001b[39m\u001b[39m%d\u001b[39;00m\u001b[39m. \u001b[39m\u001b[39m%s\u001b[39;00m\u001b[39m expected <= 2.\u001b[39m\u001b[39m\"\u001b[39m\n\u001b[1;32m    <a href='file:///home/ROBARTS/bkarat/.local/lib/python3.8/site-packages/sklearn/utils/validation.py?line=795'>796</a>\u001b[0m             \u001b[39m%\u001b[39m (array\u001b[39m.\u001b[39mndim, estimator_name)\n\u001b[1;32m    <a href='file:///home/ROBARTS/bkarat/.local/lib/python3.8/site-packages/sklearn/utils/validation.py?line=796'>797</a>\u001b[0m         )\n\u001b[1;32m    <a href='file:///home/ROBARTS/bkarat/.local/lib/python3.8/site-packages/sklearn/utils/validation.py?line=798'>799</a>\u001b[0m     \u001b[39mif\u001b[39;00m force_all_finite:\n\u001b[0;32m--> <a href='file:///home/ROBARTS/bkarat/.local/lib/python3.8/site-packages/sklearn/utils/validation.py?line=799'>800</a>\u001b[0m         _assert_all_finite(array, allow_nan\u001b[39m=\u001b[39;49mforce_all_finite \u001b[39m==\u001b[39;49m \u001b[39m\"\u001b[39;49m\u001b[39mallow-nan\u001b[39;49m\u001b[39m\"\u001b[39;49m)\n\u001b[1;32m    <a href='file:///home/ROBARTS/bkarat/.local/lib/python3.8/site-packages/sklearn/utils/validation.py?line=801'>802</a>\u001b[0m \u001b[39mif\u001b[39;00m ensure_min_samples \u001b[39m>\u001b[39m \u001b[39m0\u001b[39m:\n\u001b[1;32m    <a href='file:///home/ROBARTS/bkarat/.local/lib/python3.8/site-packages/sklearn/utils/validation.py?line=802'>803</a>\u001b[0m     n_samples \u001b[39m=\u001b[39m _num_samples(array)\n",
      "File \u001b[0;32m~/.local/lib/python3.8/site-packages/sklearn/utils/validation.py:103\u001b[0m, in \u001b[0;36m_assert_all_finite\u001b[0;34m(X, allow_nan, msg_dtype)\u001b[0m\n\u001b[1;32m     <a href='file:///home/ROBARTS/bkarat/.local/lib/python3.8/site-packages/sklearn/utils/validation.py?line=97'>98</a>\u001b[0m \u001b[39m# First try an O(n) time, O(1) space solution for the common case that\u001b[39;00m\n\u001b[1;32m     <a href='file:///home/ROBARTS/bkarat/.local/lib/python3.8/site-packages/sklearn/utils/validation.py?line=98'>99</a>\u001b[0m \u001b[39m# everything is finite; fall back to O(n) space np.isfinite to prevent\u001b[39;00m\n\u001b[1;32m    <a href='file:///home/ROBARTS/bkarat/.local/lib/python3.8/site-packages/sklearn/utils/validation.py?line=99'>100</a>\u001b[0m \u001b[39m# false positives from overflow in sum method. The sum is also calculated\u001b[39;00m\n\u001b[1;32m    <a href='file:///home/ROBARTS/bkarat/.local/lib/python3.8/site-packages/sklearn/utils/validation.py?line=100'>101</a>\u001b[0m \u001b[39m# safely to reduce dtype induced overflows.\u001b[39;00m\n\u001b[1;32m    <a href='file:///home/ROBARTS/bkarat/.local/lib/python3.8/site-packages/sklearn/utils/validation.py?line=101'>102</a>\u001b[0m is_float \u001b[39m=\u001b[39m X\u001b[39m.\u001b[39mdtype\u001b[39m.\u001b[39mkind \u001b[39min\u001b[39;00m \u001b[39m\"\u001b[39m\u001b[39mfc\u001b[39m\u001b[39m\"\u001b[39m\n\u001b[0;32m--> <a href='file:///home/ROBARTS/bkarat/.local/lib/python3.8/site-packages/sklearn/utils/validation.py?line=102'>103</a>\u001b[0m \u001b[39mif\u001b[39;00m is_float \u001b[39mand\u001b[39;00m (np\u001b[39m.\u001b[39;49misfinite(_safe_accumulator_op(np\u001b[39m.\u001b[39;49msum, X))):\n\u001b[1;32m    <a href='file:///home/ROBARTS/bkarat/.local/lib/python3.8/site-packages/sklearn/utils/validation.py?line=103'>104</a>\u001b[0m     \u001b[39mpass\u001b[39;00m\n\u001b[1;32m    <a href='file:///home/ROBARTS/bkarat/.local/lib/python3.8/site-packages/sklearn/utils/validation.py?line=104'>105</a>\u001b[0m \u001b[39melif\u001b[39;00m is_float:\n",
      "\u001b[0;31mKeyboardInterrupt\u001b[0m: "
     ]
    }
   ],
   "source": [
    "mpgMean = np.zeros((dwidatatrain.shape[0],len(Mdl)))\n",
    "\n",
    "for i in range(len(Mdl)):\n",
    "    for jj in range(dwidatatrain.shape[0]):\n",
    "        if mask[jj] == 1:\n",
    "            mpgMean[:,i] = Mdl[i].predict(dwidatatrain[jj,:].reshape(1,-1))\n"
   ]
  },
  {
   "cell_type": "code",
   "execution_count": 112,
   "metadata": {},
   "outputs": [],
   "source": [
    "ODImean = np.zeros((dwidatatrainnorm.shape[0],1))\n",
    "maskind = mask==1\n",
    "ODImean[maskind,0] = Mdl[0].predict(dwidatatrainnorm[maskind,:])"
   ]
  },
  {
   "cell_type": "code",
   "execution_count": 113,
   "metadata": {},
   "outputs": [],
   "source": [
    "a,b,c,d = dwidata.shape\n",
    "ODI = np.reshape(ODImean,[a,b,c])"
   ]
  },
  {
   "cell_type": "code",
   "execution_count": 114,
   "metadata": {},
   "outputs": [],
   "source": [
    "img = nib.Nifti1Image(ODI,dwi.affine)\n",
    "nib.save(img,f'{in_dir}/ODITEST.nii.gz')"
   ]
  },
  {
   "cell_type": "code",
   "execution_count": null,
   "metadata": {},
   "outputs": [],
   "source": []
  },
  {
   "cell_type": "code",
   "execution_count": null,
   "metadata": {},
   "outputs": [],
   "source": [
    "    Mdl = []\n",
    "    MLprediction = np.zeros((params_train.shape))\n",
    "    Rsq = np.zeros((params_train.shape[1],1))\n",
    "    Slope = np.zeros((params_train.shape[1],1))\n",
    "    Intercept = np.zeros((params_train.shape[1],1))\n",
    "    training_performances = []\n",
    "\n",
    "    np.random.seed(1)\n",
    "\n",
    "    for i in range(params_train.shape[1]):\n",
    "\n",
    "        #Mdl[i] = sk.ensemble.BaggingRegressor(estimator=sklearn.tree.DecisionTreeRegressor(),n_estimators=n_trees,bootstrap=True,oob_score=True).fit(database_train,params_train[:,i])\n",
    "        RFregress = BaggingRegressor(estimator=DecisionTreeRegressor(),n_estimators=n_trees,bootstrap=True,oob_score=True)\n",
    "        Mdl.append(RFregress.fit(database_train,params_train[:,i]))\n",
    "        MLprediction[:,i] = Mdl[i].predict(database_train)\n",
    "        \n",
    "        training_performances.append(Mdl[i].oob_score_)\n",
    "\n",
    "        linmodel = LinearRegression()\n",
    "        X = np.transpose(params_train[:,i]).reshape(-1,1)\n",
    "        y = np.transpose(MLprediction[:,i]).reshape(-1,1)\n",
    "        linmodel.fit(X,y)\n",
    "\n",
    "        Slope[i] = linmodel.coef_\n",
    "        Intercept[i] = linmodel.intercept_"
   ]
  },
  {
   "cell_type": "code",
   "execution_count": null,
   "metadata": {},
   "outputs": [],
   "source": []
  },
  {
   "cell_type": "code",
   "execution_count": 107,
   "metadata": {},
   "outputs": [
    {
     "name": "stdout",
     "output_type": "stream",
     "text": [
      "We highly recommend installing numba for faster function execution and model fitting.\n",
      "We highly recommend installing pathos to take advantage of multicore processing.\n"
     ]
    },
    {
     "data": {
      "text/plain": [
       "(266,)"
      ]
     },
     "execution_count": 107,
     "metadata": {},
     "output_type": "execute_result"
    }
   ],
   "source": [
    "\n",
    "mu = (np.pi / 2., np.pi / 2.)  # in radians\n",
    "odi = 0.6\n",
    "watsonstickfrac = 0.8\n",
    "ballfrac = 0.6\n",
    "watsonfrac = 0.4\n",
    "\n",
    "nod = NODDI_watson(mu,odi,watsonstickfrac,ballfrac,watsonfrac)\n",
    "\n",
    "nod.simulate_signal(acq_scheme).shape"
   ]
  },
  {
   "cell_type": "code",
   "execution_count": null,
   "metadata": {},
   "outputs": [],
   "source": []
  },
  {
   "cell_type": "code",
   "execution_count": null,
   "metadata": {},
   "outputs": [],
   "source": [
    "simsignal = diffsimgen(model,bval,bvec,numofsim,SNR,noisemap,)"
   ]
  },
  {
   "cell_type": "code",
   "execution_count": null,
   "metadata": {},
   "outputs": [],
   "source": [
    "class single_tensor:\n",
    "  def __init__(self,D):\n",
    "    self.D = D\n",
    "  def eigdecomp(self): #go from eigval and eigvec to tensor representation\n",
    "    eig = np.linalg.eig(self.D)\n",
    "    eigvals = eig[0]\n",
    "    eigvecs = eig[1]\n",
    "    return eigvals, eigvecs\n",
    "  def signal_representation(self,S0,bval,bvecs):\n",
    "    self.signal = S0 * np.exp((-np.transpose(bvecs) @ self.D @ bvecs)*bval)\n",
    "    return self.signal\n",
    "  def calculate_fractional_anisotropy(self):\n",
    "    eigvals,eigvecs = self.eigdecomp()\n",
    "    meaneigval = np.mean(eigvals)\n",
    "    e1, e2, e3 = eigvals\n",
    "    FA = np.sqrt(3/2) * ((np.sqrt((e1 - meaneigval)**2 +\n",
    "                        (e2 - meaneigval)**2 + (e3 - meaneigval)**2)) /\n",
    "                        np.sqrt(e1**2 + e2**2 + e3**2))\n",
    "    return FA"
   ]
  },
  {
   "cell_type": "markdown",
   "metadata": {},
   "source": [
    "### Consider just saving arrays for each model of parameter values to train across. This should not change based on acquisition, however maybe some would want to train on more or less parameters. Regardless, if we can fix this then can skip the step of randomly generating array of model parameters to train on"
   ]
  },
  {
   "cell_type": "markdown",
   "metadata": {},
   "source": [
    "# Trying to build example simulation with NODDI"
   ]
  },
  {
   "cell_type": "code",
   "execution_count": 68,
   "metadata": {},
   "outputs": [],
   "source": [
    "from dmipy.signal_models import cylinder_models, gaussian_models\n",
    "ball = gaussian_models.G1Ball()\n",
    "#ball.lambda_iso = 3e-9\n",
    "stick = cylinder_models.C1Stick()\n",
    "zeppelin = gaussian_models.G2Zeppelin()"
   ]
  },
  {
   "cell_type": "code",
   "execution_count": 69,
   "metadata": {},
   "outputs": [],
   "source": [
    "from dmipy.distributions.distribute_models import SD1WatsonDistributed\n",
    "watson_dispersed_bundle = SD1WatsonDistributed(models=[stick, zeppelin])"
   ]
  },
  {
   "cell_type": "code",
   "execution_count": 70,
   "metadata": {},
   "outputs": [
    {
     "name": "stdout",
     "output_type": "stream",
     "text": [
      "We highly recommend installing numba for faster function execution and model fitting.\n",
      "We highly recommend installing pathos to take advantage of multicore processing.\n"
     ]
    },
    {
     "data": {
      "text/plain": [
       "OrderedDict([('SD1WatsonDistributed_1_SD1Watson_1_mu', 2),\n",
       "             ('SD1WatsonDistributed_1_SD1Watson_1_odi', 1),\n",
       "             ('SD1WatsonDistributed_1_partial_volume_0', 1),\n",
       "             ('partial_volume_0', 1),\n",
       "             ('partial_volume_1', 1)])"
      ]
     },
     "execution_count": 70,
     "metadata": {},
     "output_type": "execute_result"
    }
   ],
   "source": [
    "watson_dispersed_bundle.set_tortuous_parameter('G2Zeppelin_1_lambda_perp','C1Stick_1_lambda_par','partial_volume_0')\n",
    "watson_dispersed_bundle.set_equal_parameter('G2Zeppelin_1_lambda_par', 'C1Stick_1_lambda_par')\n",
    "watson_dispersed_bundle.set_fixed_parameter('G2Zeppelin_1_lambda_par', 1.7e-9)\n",
    "#ball.set_fixed_parameter('G1Ball_1_lambda_iso', 3e-9)\n",
    "\n",
    "from dmipy.core.modeling_framework import MultiCompartmentModel\n",
    "NODDI_mod = MultiCompartmentModel(models=[ball, watson_dispersed_bundle])\n",
    "NODDI_mod.set_fixed_parameter('G1Ball_1_lambda_iso', 3e-9)\n",
    "\n",
    "NODDI_mod.parameter_cardinality"
   ]
  },
  {
   "cell_type": "code",
   "execution_count": 71,
   "metadata": {},
   "outputs": [
    {
     "data": {
      "text/plain": [
       "OrderedDict([('SD1WatsonDistributed_1_SD1Watson_1_mu', 2),\n",
       "             ('SD1WatsonDistributed_1_SD1Watson_1_odi', 1),\n",
       "             ('SD1WatsonDistributed_1_partial_volume_0', 1),\n",
       "             ('partial_volume_0', 1),\n",
       "             ('partial_volume_1', 1)])"
      ]
     },
     "execution_count": 71,
     "metadata": {},
     "output_type": "execute_result"
    }
   ],
   "source": [
    "NODDI_mod.parameter_cardinality"
   ]
  },
  {
   "cell_type": "code",
   "execution_count": 88,
   "metadata": {},
   "outputs": [],
   "source": [
    "import json\n",
    "param_range = {}\n",
    "param_range['theta'] = [0,np.pi]\n",
    "param_range['phi'] = [-np.pi,np.pi]\n",
    "param_range['odi'] = [0.02,0.99]\n",
    "param_range['watsonstickfrac'] = [0.01,0.99]\n",
    "param_range['ballfrac'] = [0.01,0.99]\n",
    "\n",
    "with open('/home/ROBARTS/bkarat/graham/DiffSimGen/resources/NODDI_watson_parameter_range.json', 'w') as f: \n",
    "    json.dump(param_range, f)"
   ]
  },
  {
   "cell_type": "code",
   "execution_count": 89,
   "metadata": {},
   "outputs": [],
   "source": [
    "with open('/home/ROBARTS/bkarat/graham/DiffSimGen/resources/NODDI_watson_parameter_range.json', 'r') as f:\n",
    "    data = json.load(f)"
   ]
  },
  {
   "cell_type": "code",
   "execution_count": 80,
   "metadata": {},
   "outputs": [
    {
     "data": {
      "text/plain": [
       "(0.01, 0.99)"
      ]
     },
     "execution_count": 80,
     "metadata": {},
     "output_type": "execute_result"
    }
   ],
   "source": [
    "NODDI_mod.parameter_ranges['partial_volume_0']"
   ]
  },
  {
   "cell_type": "markdown",
   "metadata": {},
   "source": [
    "### Set NODDI parameters for simulation"
   ]
  },
  {
   "cell_type": "code",
   "execution_count": 53,
   "metadata": {},
   "outputs": [
    {
     "data": {
      "text/plain": [
       "array([1.57079633, 1.57079633, 0.3       , 0.1       , 0.9       ,\n",
       "       0.1       ])"
      ]
     },
     "execution_count": 53,
     "metadata": {},
     "output_type": "execute_result"
    }
   ],
   "source": [
    "ball_lambda = 3e-9\n",
    "mu = (np.pi / 2., np.pi / 2.)  # in radians\n",
    "odi = 0.3\n",
    "watsonstickfrac = 0.1\n",
    "ballfrac = 0.9\n",
    "watsonfrac = 0.1\n",
    "\n",
    "parameter_vector = NODDI_mod.parameters_to_parameter_vector(\n",
    "    SD1WatsonDistributed_1_SD1Watson_1_mu=mu,\n",
    "    SD1WatsonDistributed_1_SD1Watson_1_odi=odi, SD1WatsonDistributed_1_partial_volume_0=watsonstickfrac, \n",
    "    partial_volume_0=ballfrac,partial_volume_1=watsonfrac)\n",
    "\n",
    "parameter_vector"
   ]
  },
  {
   "cell_type": "markdown",
   "metadata": {},
   "source": [
    "### Load acq scheme"
   ]
  },
  {
   "cell_type": "code",
   "execution_count": 7,
   "metadata": {},
   "outputs": [],
   "source": [
    "from dmipy.core.acquisition_scheme import acquisition_scheme_from_bvalues\n",
    "\n",
    "in_dir = '/home/ROBARTS/bkarat/graham/scratch/SANDI_fit_test/input/sub-01/dwi'\n",
    "\n",
    "bvalues = np.loadtxt(f'{in_dir}/sub-01_CHARMED_dwi.bval')\n",
    "bvals_SI = bvalues * 1e6\n",
    "bvecs = np.loadtxt(f'{in_dir}/sub-01_CHARMED_dwi.bvec')\n",
    "\n",
    "delta=None\n",
    "Delta = None\n",
    "TE = None\n",
    "acq_scheme = acquisition_scheme_from_bvalues(bvals_SI, bvecs.T,delta,Delta)\n",
    "\n",
    "\n",
    "\n",
    "\n",
    "\n",
    "# The delta and Delta times we know from the HCP documentation in seconds\n",
    "#delta = 0.0106  \n",
    "#Delta = 0.0431 \n",
    "\n",
    "# The acquisition scheme we use in the toolbox is then created as follows:\n",
    "#acq_scheme = acquisition_scheme_from_bvalues(bvalues_SI, gradient_directions, delta, Delta)\n"
   ]
  },
  {
   "cell_type": "code",
   "execution_count": 8,
   "metadata": {},
   "outputs": [
    {
     "name": "stdout",
     "output_type": "stream",
     "text": [
      "Acquisition scheme summary\n",
      "\n",
      "total number of measurements: 266\n",
      "number of b0 measurements: 13\n",
      "number of DWI shells: 6\n",
      "\n",
      "shell_index |# of DWIs |bvalue [s/mm^2] |gradient strength [mT/m] |delta [ms] |Delta[ms] |TE[ms]\n",
      "0           |13        |0               |N/A                      |N/A        |N/A       |N/A  \n",
      "1           |20        |200             |N/A                      |N/A        |N/A       |N/A  \n",
      "2           |20        |500             |N/A                      |N/A        |N/A       |N/A  \n",
      "3           |30        |1200            |N/A                      |N/A        |N/A       |N/A  \n",
      "4           |61        |2400            |N/A                      |N/A        |N/A       |N/A  \n",
      "5           |61        |4000            |N/A                      |N/A        |N/A       |N/A  \n",
      "6           |61        |6000            |N/A                      |N/A        |N/A       |N/A  \n"
     ]
    }
   ],
   "source": [
    "acq_scheme.print_acquisition_info"
   ]
  },
  {
   "cell_type": "code",
   "execution_count": 4,
   "metadata": {},
   "outputs": [
    {
     "ename": "AttributeError",
     "evalue": "'DmipyAcquisitionScheme' object has no attribute 'summary'",
     "output_type": "error",
     "traceback": [
      "\u001b[0;31m---------------------------------------------------------------------------\u001b[0m",
      "\u001b[0;31mAttributeError\u001b[0m                            Traceback (most recent call last)",
      "Cell \u001b[0;32mIn[4], line 1\u001b[0m\n\u001b[0;32m----> 1\u001b[0m \u001b[43macq_scheme\u001b[49m\u001b[38;5;241;43m.\u001b[39;49m\u001b[43msummary\u001b[49m()\n",
      "\u001b[0;31mAttributeError\u001b[0m: 'DmipyAcquisitionScheme' object has no attribute 'summary'"
     ]
    }
   ],
   "source": [
    "acq_scheme.summary()"
   ]
  },
  {
   "cell_type": "code",
   "execution_count": 55,
   "metadata": {},
   "outputs": [
    {
     "data": {
      "text/plain": [
       "(3, 266)"
      ]
     },
     "execution_count": 55,
     "metadata": {},
     "output_type": "execute_result"
    }
   ],
   "source": [
    "bvecs.shape"
   ]
  },
  {
   "cell_type": "markdown",
   "metadata": {},
   "source": [
    "### Simulate signal"
   ]
  },
  {
   "cell_type": "code",
   "execution_count": 56,
   "metadata": {},
   "outputs": [
    {
     "data": {
      "text/plain": [
       "266"
      ]
     },
     "execution_count": 56,
     "metadata": {},
     "output_type": "execute_result"
    }
   ],
   "source": [
    "NODDI_simulate = NODDI_mod.simulate_signal(acq_scheme, parameter_vector)\n",
    "len(NODDI_simulate)  # See that this produces the signal attenuation for the entire acquisition scheme"
   ]
  },
  {
   "cell_type": "code",
   "execution_count": 57,
   "metadata": {},
   "outputs": [],
   "source": [
    "bunique = np.unique(bvalues)\n",
    "s1 = np.zeros((len(bunique)))\n",
    "\n",
    "for ii in range(len(bunique)):\n",
    "    bind = bvalues == bunique[ii]\n",
    "    s1[ii] = np.mean(NODDI_simulate[bind])"
   ]
  },
  {
   "cell_type": "code",
   "execution_count": 58,
   "metadata": {},
   "outputs": [],
   "source": [
    "from scipy.fft import fft, fftfreq\n",
    "import numpy as np\n",
    "\n",
    "from scipy.optimize import curve_fit\n",
    "# Function to calculate the exponential with constants a and b\n",
    "def monoexp(x, m, t):\n",
    "    return m * np.exp(-t * x)\n",
    "\n",
    "barray = np.linspace(0,6000,100)\n",
    "\n",
    "p0 = (1,0.0000003 ) # start with values near those we expect\n",
    "\n",
    "params1,cv = curve_fit(monoexp,bunique,s1,p0)\n",
    "\n",
    "s1fit = monoexp(barray,params1[0],params1[1])\n"
   ]
  },
  {
   "cell_type": "code",
   "execution_count": 59,
   "metadata": {},
   "outputs": [
    {
     "data": {
      "image/png": "[encoded data removed]",
      "text/plain": [
       "<Figure size 640x480 with 1 Axes>"
      ]
     },
     "metadata": {},
     "output_type": "display_data"
    }
   ],
   "source": [
    "import matplotlib.pyplot as plt\n",
    "fig = plt.figure()\n",
    "ax1 = fig.add_subplot(111)\n",
    "\n",
    "ax1.scatter(barray, s1fit, s=10, c='b', marker=\"s\", label='Micro-environment #1 (free)')\n",
    "ax1.scatter(bunique, s1, s=20, c='b', marker=\"s\")\n",
    "plt.legend(loc='upper right')\n",
    "plt.xlabel(\"b-values (s/mm^2)\")\n",
    "plt.ylabel(\"S/S0\")\n",
    "plt.show()"
   ]
  },
  {
   "cell_type": "code",
   "execution_count": 60,
   "metadata": {},
   "outputs": [],
   "source": [
    "#B0 AND B1000 ONLY FOR FT\n",
    "bunique = np.unique(bvalues)[0:4]\n",
    "\n",
    "sb1000 = np.zeros((4))\n",
    "\n",
    "for ii in range(len(bunique)):\n",
    "    bind = bvalues==bunique[ii]\n",
    "    sb1000[ii] = np.mean(NODDI_simulate[bind])"
   ]
  },
  {
   "cell_type": "code",
   "execution_count": 61,
   "metadata": {},
   "outputs": [],
   "source": [
    "barray = np.linspace(0,1200,100)\n",
    "\n",
    "p0 = (1,0.0000003 ) # start with values near those we expect\n",
    "\n",
    "params1,cv = curve_fit(monoexp,bunique,sb1000,p0)\n",
    "\n",
    "s1fit = monoexp(barray,params1[0],params1[1])"
   ]
  },
  {
   "cell_type": "code",
   "execution_count": 62,
   "metadata": {},
   "outputs": [
    {
     "data": {
      "image/png": "[encoded data removed]",
      "text/plain": [
       "<Figure size 640x480 with 1 Axes>"
      ]
     },
     "metadata": {},
     "output_type": "display_data"
    }
   ],
   "source": [
    "import matplotlib.pyplot as plt\n",
    "fig = plt.figure()\n",
    "ax1 = fig.add_subplot(111)\n",
    "\n",
    "ax1.scatter(barray, s1fit, s=10, c='b', marker=\"s\", label='Micro-environment #1 (free)')\n",
    "ax1.scatter(bunique, sb1000, s=20, c='b', marker=\"s\")\n",
    "plt.legend(loc='upper right')\n",
    "plt.xlabel(\"b-values (s/mm^2)\")\n",
    "plt.ylabel(\"S/S0\")\n",
    "plt.show()"
   ]
  },
  {
   "cell_type": "code",
   "execution_count": 67,
   "metadata": {},
   "outputs": [
    {
     "data": {
      "image/png": "[encoded data removed]",
      "text/plain": [
       "<Figure size 640x480 with 1 Axes>"
      ]
     },
     "metadata": {},
     "output_type": "display_data"
    }
   ],
   "source": [
    "from scipy.fft import fft, fftfreq, fftshift, ifft\n",
    "\n",
    "import numpy as np\n",
    "\n",
    "# Number of sample points\n",
    "\n",
    "N = 100\n",
    "# sample spacing\n",
    "T = 1200 / 100\n",
    "\n",
    "yf = ifft(s1fit)\n",
    "xf = fftfreq(N, T)\n",
    "xf = fftshift(xf)\n",
    "yplot = fftshift(yf)\n",
    "\n",
    "import matplotlib.pyplot as plt\n",
    "\n",
    "plt.plot(xf, 1.0/N * np.abs(yplot))\n",
    "\n",
    "plt.grid()\n",
    "\n",
    "plt.show()"
   ]
  },
  {
   "cell_type": "code",
   "execution_count": 52,
   "metadata": {},
   "outputs": [
    {
     "data": {
      "image/png": "[encoded data removed]",
      "text/plain": [
       "<Figure size 640x480 with 1 Axes>"
      ]
     },
     "metadata": {},
     "output_type": "display_data"
    }
   ],
   "source": [
    "from scipy.fft import fft, fftfreq, fftshift\n",
    "\n",
    "import numpy as np\n",
    "\n",
    "# Number of sample points\n",
    "\n",
    "N = 100\n",
    "# sample spacing\n",
    "T = 1200 / 100\n",
    "\n",
    "yf = fft(s1fit)\n",
    "xf = fftfreq(N, T)\n",
    "xf = fftshift(xf)\n",
    "yplot = fftshift(yf)\n",
    "\n",
    "import matplotlib.pyplot as plt\n",
    "\n",
    "plt.plot(xf, 1.0/N * np.abs(yplot))\n",
    "\n",
    "plt.grid()\n",
    "\n",
    "plt.show()"
   ]
  },
  {
   "cell_type": "code",
   "execution_count": null,
   "metadata": {},
   "outputs": [],
   "source": []
  },
  {
   "cell_type": "code",
   "execution_count": null,
   "metadata": {},
   "outputs": [],
   "source": []
  },
  {
   "cell_type": "code",
   "execution_count": 117,
   "metadata": {},
   "outputs": [
    {
     "name": "stdout",
     "output_type": "stream",
     "text": [
      "Setup brute2fine optimizer in 1.7437341213226318 seconds\n",
      "Fitting of 1 voxels complete in 0.06595540046691895 seconds.\n",
      "Average of 0.06595540046691895 seconds per voxel.\n"
     ]
    }
   ],
   "source": [
    "res = NODDI_mod.fit(acq_scheme, NODDI_simulate)"
   ]
  },
  {
   "cell_type": "code",
   "execution_count": 118,
   "metadata": {},
   "outputs": [
    {
     "name": "stdout",
     "output_type": "stream",
     "text": [
      "Optimized result: [[ 1.56915801 -1.56780756  0.60140646  0.80016357  0.6000631   0.3999369 ]]\n",
      "Ground truth:     [1.57079633 1.57079633 0.6        0.8        0.6        0.4       ]\n"
     ]
    }
   ],
   "source": [
    "(print ('Optimized result:', res.fitted_parameters_vector))\n",
    "(print ('Ground truth:    ', parameter_vector))"
   ]
  },
  {
   "cell_type": "code",
   "execution_count": 123,
   "metadata": {},
   "outputs": [],
   "source": [
    "ball.lambda_iso = 3e-9"
   ]
  },
  {
   "cell_type": "code",
   "execution_count": null,
   "metadata": {},
   "outputs": [],
   "source": [
    "class single_tensor:\n",
    "  def __init__(self,D):\n",
    "    self.D = D\n",
    "  def eigdecomp(self): #go from eigval and eigvec to tensor representation\n",
    "    eig = np.linalg.eig(self.D)\n",
    "    eigvals = eig[0]\n",
    "    eigvecs = eig[1]\n",
    "    return eigvals, eigvecs\n",
    "  def signal_representation(self,S0,bval,bvecs):\n",
    "    self.signal = S0 * np.exp((-np.transpose(bvecs) @ self.D @ bvecs)*bval)\n",
    "    return self.signal\n",
    "  def calculate_fractional_anisotropy(self):\n",
    "    eigvals,eigvecs = self.eigdecomp()\n",
    "    meaneigval = np.mean(eigvals)\n",
    "    e1, e2, e3 = eigvals\n",
    "    FA = np.sqrt(3/2) * ((np.sqrt((e1 - meaneigval)**2 +\n",
    "                        (e2 - meaneigval)**2 + (e3 - meaneigval)**2)) /\n",
    "                        np.sqrt(e1**2 + e2**2 + e3**2))\n",
    "    return FA"
   ]
  }
 ],
 "metadata": {
  "interpreter": {
   "hash": "f9f85f796d01129d0dd105a088854619f454435301f6ffec2fea96ecbd9be4ac"
  },
  "kernelspec": {
   "display_name": "Python 3.9.5 64-bit",
   "language": "python",
   "name": "python3"
  },
  "language_info": {
   "codemirror_mode": {
    "name": "ipython",
    "version": 3
   },
   "file_extension": ".py",
   "mimetype": "text/x-python",
   "name": "python",
   "nbconvert_exporter": "python",
   "pygments_lexer": "ipython3",
   "version": "3.8.10"
  },
  "orig_nbformat": 4
 },
 "nbformat": 4,
 "nbformat_minor": 2
}
